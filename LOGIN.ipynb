{
 "cells": [
  {
   "cell_type": "code",
   "execution_count": 22,
   "id": "d2293ceb",
   "metadata": {},
   "outputs": [
    {
     "name": "stdout",
     "output_type": "stream",
     "text": [
      "Requirement already satisfied: pymongo in c:\\users\\selvaganapathy\\anaconda3\\lib\\site-packages (4.0.2)\n",
      "Note: you may need to restart the kernel to use updated packages.\n"
     ]
    }
   ],
   "source": [
    "pip install pymongo\n"
   ]
  },
  {
   "cell_type": "code",
   "execution_count": 23,
   "id": "4a785c9c",
   "metadata": {},
   "outputs": [],
   "source": [
    "import re\n",
    "\n",
    "def validation(mail,password):\n",
    "    regex_email = r'\\b[A-Za-z0-9._%+-]+@[A-Za-z0-9.-]+\\.[A-Z|a-z]{2,}\\b' \n",
    "    m = re.compile(regex_email)\n",
    "    if(re.fullmatch(m, mail)):\n",
    "            paswd=['$', '@', '#', '%']\n",
    "    \n",
    "            \n",
    "            if any(i in paswd for i in password):\n",
    "                if len(password)>6 and len(password)< 20:\n",
    "                    if any(i.isdigit() for i in password):\n",
    "                        if any(i.islower() for i in password):\n",
    "                            if any(i.isupper() for i in password):\n",
    "                                return {\"Email\" : mail , \"Password\" : password}\n",
    "                            else:\n",
    "                                return \"invald password\"\n",
    "                        else:\n",
    "                            return \"invald password\"\n",
    "                    else:\n",
    "                        return \"invald password\"\n",
    "                else:\n",
    "                    return \"invald password\"\n",
    "            else:\n",
    "                return \"invald password\"\n",
    "\n",
    "    else:\n",
    "          return \"invalid email !\"\n",
    "            \n",
    "            \n",
    "\n",
    "        \n",
    "        \n",
    "        \n",
    "    \n",
    "            \n"
   ]
  },
  {
   "cell_type": "code",
   "execution_count": 24,
   "id": "8d501ddd",
   "metadata": {},
   "outputs": [
    {
     "data": {
      "text/plain": [
       "Database(MongoClient(host=['localhost:27017'], document_class=dict, tz_aware=False, connect=True), 'test')"
      ]
     },
     "execution_count": 24,
     "metadata": {},
     "output_type": "execute_result"
    }
   ],
   "source": [
    "import pymongo\n",
    "connection=pymongo.MongoClient(\"localhost\",27017)\n",
    "connection.test\n",
    "\n"
   ]
  },
  {
   "cell_type": "code",
   "execution_count": 25,
   "id": "1d992bbd",
   "metadata": {},
   "outputs": [],
   "source": [
    "db=connection[\"Login_Data\"]\n",
    "my_collect=db[\"Login\"]"
   ]
  },
  {
   "cell_type": "code",
   "execution_count": 26,
   "id": "1e5575b3",
   "metadata": {},
   "outputs": [],
   "source": [
    "def retrive_func(mail):\n",
    "    passed= \"\"\n",
    "    for i in my_collect.find({\"Email\": mail}):\n",
    "        passed = i[\"Password\"]\n",
    "    if passed == \"\":\n",
    "        print(\"Mail ID not found / Kindly register \")\n",
    "\n",
    "        Mail =input(\"To register enter your Email : \")\n",
    "        Pas = input(\"To register enter your Password : \")\n",
    "        register(Mail,Pas)\n",
    "\n",
    "                 \n",
    "    else:\n",
    "        return passed\n",
    "\n"
   ]
  },
  {
   "cell_type": "code",
   "execution_count": 27,
   "id": "949af82a",
   "metadata": {},
   "outputs": [],
   "source": [
    "def register(mail,password):\n",
    "    Re = validation(mail,password)\n",
    "    if type(Re)== dict:\n",
    "        if my_collect.find({\"Email\": mail}):\n",
    "            print(\"User Exist\")\n",
    "        else:\n",
    "            my_collect.insert_one(Re)\n",
    "            print(Re)\n",
    "    else:\n",
    "        print(Re)"
   ]
  },
  {
   "cell_type": "code",
   "execution_count": 32,
   "id": "f8057ab7",
   "metadata": {},
   "outputs": [],
   "source": [
    "def login(mail,password):\n",
    "    Re = validation(mail,password)\n",
    "    if type(Re)== dict:\n",
    "        m=\"\"\n",
    "        p=\"\"\n",
    "        for i in my_collect.find(Re):\n",
    "            m=i[\"Email\"]\n",
    "            p=i[\"Password\"]\n",
    "        \n",
    "        if m==mail and p==password:\n",
    "            print(mail,\"Login successful\")\n",
    "        else:\n",
    "            print(\"Login Failed\")\n",
    "    else:\n",
    "        print(Re)\n",
    "        print(\"Login Failed / Do you want to continue Y or N\")\n",
    "        \n",
    "        if input()==\"Y\":\n",
    "            print(\"Retrive password press 1\")\n",
    "            print(\"Try again press 2\")\n",
    "            print(\"Register press 3\")\n",
    "            Em=int(input())\n",
    "\n",
    "            if Em == 1:\n",
    "                    print(\"To retrive your password enter a valid mail ID\")\n",
    "                    Email = input()\n",
    "                    print(\"Your password is :\", retrive_func(Email))\n",
    "            elif Em == 2:\n",
    "                    mail=input(\"Enter your email: \")\n",
    "                    password=input(\"Enter your password: \")\n",
    "                    login(mail,password)\n",
    "            elif Em == 3:\n",
    "                    print(\"please register\")\n",
    "                    Mail =input(\"To register enter your Email : \")\n",
    "                    Pas = input(\"To register enter your Password : \")\n",
    "                    register(Mail,Pas)\n",
    "        \n",
    "            \n",
    "            \n",
    "\n",
    "        else:\n",
    "            pass\n",
    "            print(\"Nandri\")\n",
    "                \n",
    "            \n",
    "            \n",
    "        \n",
    "            \n",
    "        \n",
    "        \n",
    "        \n",
    "\n",
    "        \n",
    "    "
   ]
  },
  {
   "cell_type": "code",
   "execution_count": 35,
   "id": "b4acab28",
   "metadata": {},
   "outputs": [
    {
     "name": "stdout",
     "output_type": "stream",
     "text": [
      "Welcome to SS SYSTEM\n",
      "Choose your option:\n",
      "  LOGIN_IN:1 \n",
      "  REGISTER:2 \n",
      "  FORGOT_PASSWORD!:3 \n",
      "1\n",
      "Enter your email: sgans70@gmail.com\n",
      "Enter your password: Selva@1234\n",
      "sgans70@gmail.com Login successful\n"
     ]
    }
   ],
   "source": [
    "print(\"Welcome to SS SYSTEM\")\n",
    "print(\"Choose your option:\\n  LOGIN_IN:1 \\n  REGISTER:2 \\n  FORGOT_PASSWORD!:3 \")\n",
    "Reg=input()\n",
    "if Reg== \"3\":\n",
    "    print(\"To retrive your password enter a valid mail ID\")\n",
    "    Email = input()\n",
    "    print(\"Your password is :\", retrive_func(Email))\n",
    "elif Reg == \"2\":\n",
    "    Mail =input(\"To register enter your Email : \")\n",
    "    Pas = input(\"To register enter your Password : \")\n",
    "    register(Mail,Pas)\n",
    "elif Reg == \"1\":\n",
    "    mail=input(\"Enter your email: \")\n",
    "    password=input(\"Enter your password: \")\n",
    "    login(mail,password)\n",
    "    "
   ]
  },
  {
   "cell_type": "code",
   "execution_count": null,
   "id": "a5dad3b0",
   "metadata": {},
   "outputs": [],
   "source": []
  },
  {
   "cell_type": "code",
   "execution_count": null,
   "id": "4a8e6c97",
   "metadata": {},
   "outputs": [],
   "source": []
  }
 ],
 "metadata": {
  "kernelspec": {
   "display_name": "Python 3 (ipykernel)",
   "language": "python",
   "name": "python3"
  },
  "language_info": {
   "codemirror_mode": {
    "name": "ipython",
    "version": 3
   },
   "file_extension": ".py",
   "mimetype": "text/x-python",
   "name": "python",
   "nbconvert_exporter": "python",
   "pygments_lexer": "ipython3",
   "version": "3.9.7"
  }
 },
 "nbformat": 4,
 "nbformat_minor": 5
}
